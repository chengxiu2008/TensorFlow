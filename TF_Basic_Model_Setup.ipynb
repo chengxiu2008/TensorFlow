{
 "cells": [
  {
   "cell_type": "markdown",
   "metadata": {},
   "source": [
    "# TensorFlow Basic Model Setup\n",
    "\n",
    "TensorFlow is a deep learning framework."
   ]
  },
  {
   "cell_type": "code",
   "execution_count": 1,
   "metadata": {
    "scrolled": true
   },
   "outputs": [
    {
     "name": "stderr",
     "output_type": "stream",
     "text": [
      "/anaconda3/lib/python3.6/site-packages/h5py/__init__.py:36: FutureWarning: Conversion of the second argument of issubdtype from `float` to `np.floating` is deprecated. In future, it will be treated as `np.float64 == np.dtype(float).type`.\n",
      "  from ._conv import register_converters as _register_converters\n"
     ]
    },
    {
     "name": "stdout",
     "output_type": "stream",
     "text": [
      "1.6.0\n"
     ]
    }
   ],
   "source": [
    "import tensorflow as tf\n",
    "\n",
    "print(tf.__version__)"
   ]
  },
  {
   "cell_type": "markdown",
   "metadata": {},
   "source": [
    "## 1. Variables, Constants\n",
    "### 1.1 Variables"
   ]
  },
  {
   "cell_type": "code",
   "execution_count": 2,
   "metadata": {},
   "outputs": [
    {
     "name": "stdout",
     "output_type": "stream",
     "text": [
      "v1: <tf.Variable 'w1:0' shape=() dtype=float32_ref>\n",
      "v2: <tf.Variable 'w1_1:0' shape=(1,) dtype=float32_ref>\n",
      "v3: <tf.Variable 'Variable:0' shape=(2, 1) dtype=float32_ref>\n"
     ]
    }
   ],
   "source": [
    "v1 = tf.Variable(0.1, dtype=tf.float32, name='w1', trainable=False)\n",
    "v2 = tf.Variable([0.1], dtype=tf.float32, name='w1')\n",
    "v3 = tf.Variable([[0.1], [0.3]], dtype=tf.float32)\n",
    "\n",
    "print('v1:', v1)\n",
    "print('v2:', v2)\n",
    "print('v3:', v3)\n"
   ]
  },
  {
   "cell_type": "markdown",
   "metadata": {},
   "source": [
    "变量的声明：\n",
    "- TensorFlow中使用了命名空间管理，如‘W1_2:0\"是变量v1在命名空间中的一个名称\n",
    "- Shape\n",
    "- 变量的类型\n",
    "- trainable: 如果想固定某个参数，则设置为False。否则，变量在神经网络训练的过程中会通过迭代不停的更新该参数\n",
    "\n",
    "声明变量后，需要初始化后再启动Session来得到变量的值。"
   ]
  },
  {
   "cell_type": "code",
   "execution_count": 3,
   "metadata": {},
   "outputs": [],
   "source": [
    "init = tf.global_variables_initializer()\n",
    "\n",
    "sess =  tf.Session()\n",
    "sess.run(init)"
   ]
  },
  {
   "cell_type": "code",
   "execution_count": 4,
   "metadata": {},
   "outputs": [
    {
     "name": "stdout",
     "output_type": "stream",
     "text": [
      "v1: 0.1\n",
      "v2: [0.1]\n",
      "v3: [[0.1]\n",
      " [0.3]]\n"
     ]
    }
   ],
   "source": [
    "print('v1:',sess.run(v1))\n",
    "print('v2:',sess.run(v2))\n",
    "print('v3:',sess.run(v3))"
   ]
  },
  {
   "cell_type": "markdown",
   "metadata": {},
   "source": [
    "### 1.2 Constants\n",
    "\n",
    "每次创建了新的变量、常量，都要执行初始化。"
   ]
  },
  {
   "cell_type": "code",
   "execution_count": 5,
   "metadata": {},
   "outputs": [
    {
     "name": "stdout",
     "output_type": "stream",
     "text": [
      "c1: Tensor(\"Const:0\", shape=(1,), dtype=float32)\n",
      "c2: Tensor(\"Const_1:0\", shape=(2,), dtype=float32)\n"
     ]
    }
   ],
   "source": [
    "c1 = tf.constant([1.0], dtype=tf.float32)\n",
    "c2 = tf.constant([1.0, 2.0], dtype=tf.float32)\n",
    "\n",
    "print('c1:', c1)\n",
    "print('c2:', c2)"
   ]
  },
  {
   "cell_type": "code",
   "execution_count": 6,
   "metadata": {},
   "outputs": [
    {
     "name": "stdout",
     "output_type": "stream",
     "text": [
      "c1: [1.]\n",
      "c2: [1. 2.]\n"
     ]
    }
   ],
   "source": [
    "sess = tf.Session()\n",
    "sess.run(init)\n",
    "\n",
    "print('c1:', sess.run(c1))\n",
    "print('c2:', sess.run(c2))"
   ]
  },
  {
   "cell_type": "markdown",
   "metadata": {},
   "source": [
    "### 1.3 tf.get_variable to create variables"
   ]
  },
  {
   "cell_type": "code",
   "execution_count": 7,
   "metadata": {},
   "outputs": [
    {
     "name": "stdout",
     "output_type": "stream",
     "text": [
      "w11: <tf.Variable 'w1_1_1:0' shape=(3, 4) dtype=float32_ref>\n",
      "b11: <tf.Variable 'b1_1:0' shape=(3, 1) dtype=float32_ref>\n"
     ]
    }
   ],
   "source": [
    "w1_1 = tf.get_variable(name='w1_1', shape=[3,4], initializer=tf.truncated_normal_initializer())\n",
    "b1_1 = tf.get_variable('b1_1', [3,1])\n",
    "\n",
    "print('w11:', w1_1)\n",
    "print('b11:', b1_1)"
   ]
  },
  {
   "cell_type": "markdown",
   "metadata": {},
   "source": [
    "### 1.4 tf.placeholder() and feed method\n",
    "tf.placeholder() only declares a place for the variable and wait for the data to feed。"
   ]
  },
  {
   "cell_type": "code",
   "execution_count": 8,
   "metadata": {},
   "outputs": [
    {
     "name": "stdout",
     "output_type": "stream",
     "text": [
      "input1: Tensor(\"Placeholder:0\", dtype=float32)\n",
      "input2: Tensor(\"Placeholder_1:0\", dtype=float32)\n",
      "output: Tensor(\"Mul:0\", dtype=float32)\n"
     ]
    }
   ],
   "source": [
    "input1 = tf.placeholder(tf.float32)\n",
    "input2 = tf.placeholder(tf.float32)\n",
    "output = tf.multiply(input1, input2)\n",
    "print('input1:', input1)\n",
    "print('input2:', input2)\n",
    "print('output:', output)"
   ]
  },
  {
   "cell_type": "code",
   "execution_count": 9,
   "metadata": {},
   "outputs": [
    {
     "name": "stdout",
     "output_type": "stream",
     "text": [
      "[array([14.], dtype=float32)]\n",
      "[array([5.], dtype=float32)]\n"
     ]
    }
   ],
   "source": [
    "_out = sess.run([output], feed_dict={input1:[7.0], input2:[2.0]})\n",
    "print(_out)\n",
    "_out = sess.run([output], feed_dict={input1:[5.0], input2:[1.0]})\n",
    "print(_out)"
   ]
  },
  {
   "cell_type": "markdown",
   "metadata": {},
   "source": [
    "### 1.5 A simple example"
   ]
  },
  {
   "cell_type": "code",
   "execution_count": 10,
   "metadata": {},
   "outputs": [
    {
     "name": "stdout",
     "output_type": "stream",
     "text": [
      "round 0: h_vec[0] = 1.0, h_sum = 1.0\n",
      "round 1: h_vec[1] = 2.0, h_sum = 3.0\n",
      "round 2: h_vec[2] = 3.0, h_sum = 6.0\n",
      "round 3: h_vec[3] = 4.0, h_sum = 10.0\n"
     ]
    }
   ],
   "source": [
    "# Add h_vec element and get the mean value\n",
    "# First, write downt he computational graph\n",
    "\n",
    "h_vec = tf.constant([1.0, 2.0, 3.0, 4,0])\n",
    "h_sum = tf.Variable(0.0, dtype=tf.float32)\n",
    "h_cur = tf.placeholder(tf.float32)\n",
    "\n",
    "h_new = tf.add(h_sum, h_cur)\n",
    "update = tf.assign(h_sum, h_new)\n",
    "\n",
    "\n",
    "sess.run(tf.global_variables_initializer())\n",
    "\n",
    "for i in range(4):\n",
    "    sess.run([update], feed_dict = {h_cur: sess.run(h_vec[i])})\n",
    "    print('round {}: h_vec[{}] = {}, h_sum = {}'.format(i, i, sess.run(h_vec[i]), sess.run(h_sum)))"
   ]
  },
  {
   "cell_type": "markdown",
   "metadata": {},
   "source": [
    "## 2. A machine learning example\n",
    "- Preprae the data set\n",
    "- Build a computational graph that describes the computation that you want to perform\n",
    "- Run the computational graph many times\n",
    "\n",
    "You can setup the GPU/CPU usage."
   ]
  },
  {
   "cell_type": "code",
   "execution_count": 11,
   "metadata": {},
   "outputs": [
    {
     "name": "stdout",
     "output_type": "stream",
     "text": [
      "Using device:  /cpu:0\n"
     ]
    }
   ],
   "source": [
    "# Set up some global variables\n",
    "USE_GPU = False\n",
    "\n",
    "if USE_GPU:\n",
    "    device = '/device:GPU:0'\n",
    "else:\n",
    "    device = '/cpu:0'\n",
    "\n",
    "# Constant to control how often we print when training models\n",
    "print_every = 100\n",
    "\n",
    "print('Using device: ', device)"
   ]
  },
  {
   "cell_type": "code",
   "execution_count": 12,
   "metadata": {},
   "outputs": [
    {
     "name": "stdout",
     "output_type": "stream",
     "text": [
      "X.shape= (100, 1)\n",
      "y.shape= (100, 1)\n"
     ]
    }
   ],
   "source": [
    "import tensorflow as tf\n",
    "import numpy as np\n",
    "\n",
    "# 1.Prepare the data set\n",
    "X = np.float32(np.random.rand(100)) \n",
    "X = np.sort(X)\n",
    "y = np.dot(0.200, X**2) + 0.300 + np.random.randn(100) * 0.01\n",
    "X = X.reshape([-1, 1])\n",
    "y = y.reshape([-1, 1])\n",
    "print('X.shape=', X.shape)\n",
    "print('y.shape=', y.shape)"
   ]
  },
  {
   "cell_type": "code",
   "execution_count": 13,
   "metadata": {},
   "outputs": [
    {
     "name": "stdout",
     "output_type": "stream",
     "text": [
      "0 [[-0.3125186]] [0.52877927]\n",
      "20 [[0.09133644]] [0.33585548]\n",
      "40 [[0.1778729]] [0.30676746]\n",
      "60 [[0.19565529]] [0.30079016]\n",
      "80 [[0.1993094]] [0.2995619]\n",
      "100 [[0.20006028]] [0.2993095]\n",
      "120 [[0.2002146]] [0.2992576]\n",
      "140 [[0.2002463]] [0.29924697]\n",
      "160 [[0.2002528]] [0.29924476]\n",
      "180 [[0.20025414]] [0.2992443]\n",
      "200 [[0.20025437]] [0.29924425]\n"
     ]
    }
   ],
   "source": [
    "Learning_rate = 0.5\n",
    "\n",
    "# 2.Build a computational graph\n",
    "b = tf.Variable(tf.zeros([1]))\n",
    "W = tf.Variable(tf.random_uniform([1,1], -1.0, 1.0))\n",
    "y_pre = tf.matmul(X**2, W) + b\n",
    "\n",
    "loss = tf.reduce_mean(tf.square(y_pre - y))\n",
    "optimizer = tf.train.GradientDescentOptimizer(Learning_rate)\n",
    "train = optimizer.minimize(loss)\n",
    "\n",
    "init = tf.global_variables_initializer()\n",
    "sess.run(init)\n",
    "\n",
    "# 3. Run the computational graph\n",
    "for step in range(0, 201):\n",
    "    sess.run(train)\n",
    "    if step % 20 == 0:\n",
    "        print(step, sess.run(W), sess.run(b))\n"
   ]
  },
  {
   "cell_type": "code",
   "execution_count": 14,
   "metadata": {},
   "outputs": [
    {
     "name": "stdout",
     "output_type": "stream",
     "text": [
      "y_pre: [0.29924685 0.299248   0.29926902 0.2995056  0.29951125 0.29962012\n",
      " 0.29995885 0.30017817 0.3008254  0.30084106 0.30121276 0.30125967\n",
      " 0.3022981  0.30231625 0.30286542 0.30309933 0.30314296 0.30376157\n",
      " 0.3037927  0.30392033]\n",
      "y_true: [0.30684343 0.3063782  0.28725159 0.29609463 0.30113865 0.29625429\n",
      " 0.30777487 0.3000806  0.29443597 0.30563201 0.30941479 0.30564604\n",
      " 0.28625558 0.30469068 0.30645554 0.29580857 0.31416125 0.30818975\n",
      " 0.29692953 0.30019726]\n"
     ]
    }
   ],
   "source": [
    "_y_pre = sess.run(y_pre)   \n",
    "print('y_pre:', _y_pre.reshape([-1])[:20])   \n",
    "print('y_true:', y.reshape([-1])[:20]) "
   ]
  },
  {
   "cell_type": "code",
   "execution_count": 16,
   "metadata": {},
   "outputs": [
    {
     "data": {
      "image/png": "[encoded data removed]",
      "text/plain": [
       "<matplotlib.figure.Figure at 0x182171f9e8>"
      ]
     },
     "metadata": {},
     "output_type": "display_data"
    }
   ],
   "source": [
    "import matplotlib.pyplot as plt\n",
    "\n",
    "plt.plot(X, y, 'b.', label='Training Set')\n",
    "plt.plot(X, _y_pre, 'r-', label=\"Learning Curve\")\n",
    "plt.legend()\n",
    "plt.show()"
   ]
  }
 ],
 "metadata": {
  "kernelspec": {
   "display_name": "Python 3",
   "language": "python",
   "name": "python3"
  },
  "language_info": {
   "codemirror_mode": {
    "name": "ipython",
    "version": 3
   },
   "file_extension": ".py",
   "mimetype": "text/x-python",
   "name": "python",
   "nbconvert_exporter": "python",
   "pygments_lexer": "ipython3",
   "version": "3.6.4"
  }
 },
 "nbformat": 4,
 "nbformat_minor": 2
}
