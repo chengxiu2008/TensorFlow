{
 "cells": [
  {
   "cell_type": "markdown",
   "metadata": {},
   "source": [
    "# TensorFlow Basic Operations\n",
    "\n",
    "TensorFlow is a deep learning framework.\n",
    "- 使用图 (graph) 来表示计算任务.\n",
    "- 在被称之为 会话 (Session) 的上下文 (context) 中执行图.\n",
    "- 使用 tensor 表示数据.\n",
    "- 通过 变量 (Variable) 维护状态.\n",
    "- 使用 feed 和 fetch 可以为任意的操作(arbitrary operation) 赋值或者从其中获取数据.\n",
    "\n",
    "Refer to: http://wiki.jikexueyuan.com/project/tensorflow-zh/get_started/basic_usage.html"
   ]
  },
  {
   "cell_type": "markdown",
   "metadata": {},
   "source": [
    "## Construct graph\n",
    "构建图的第一步, 是创建源 operation (source op). 源 op 不需要任何输入, 例如 常量 (Constant). 源 op 的输出被传递给其它 op 做运算.\n",
    "Python 库中, op 构造器的返回值代表被构造出的 op 的输出, 这些返回值可以传递给其它 op 构造器作为输入.\n",
    "TensorFlow Python 库有一个默认图 (default graph), op 构造器可以为其增加节点. 这个默认图对许多程序来说已经足够用了."
   ]
  },
  {
   "cell_type": "code",
   "execution_count": 1,
   "metadata": {},
   "outputs": [
    {
     "name": "stderr",
     "output_type": "stream",
     "text": [
      "/anaconda3/lib/python3.6/site-packages/h5py/__init__.py:36: FutureWarning: Conversion of the second argument of issubdtype from `float` to `np.floating` is deprecated. In future, it will be treated as `np.float64 == np.dtype(float).type`.\n",
      "  from ._conv import register_converters as _register_converters\n"
     ]
    },
    {
     "name": "stdout",
     "output_type": "stream",
     "text": [
      "matrix1: Tensor(\"Const:0\", shape=(1, 2), dtype=float32)\n",
      "matrix2: Tensor(\"Const_1:0\", shape=(2, 1), dtype=float32)\n",
      "product: Tensor(\"MatMul:0\", shape=(1, 1), dtype=float32)\n"
     ]
    }
   ],
   "source": [
    "import tensorflow as tf\n",
    "\n",
    "# 创建一个常量 op, 产生一个 1x2 矩阵. 这个 op 被作为一个节点\n",
    "# 加到默认图中.\n",
    "#\n",
    "# 构造器的返回值代表该常量 op 的返回值.\n",
    "matrix1 = tf.constant([[3., 3.]])\n",
    "\n",
    "# 创建另外一个常量 op, 产生一个 2x1 矩阵.\n",
    "matrix2 = tf.constant([[2.],[2.]])\n",
    "\n",
    "# 创建一个矩阵乘法 matmul op , 把 'matrix1' 和 'matrix2' 作为输入.\n",
    "# 返回值 'product' 代表矩阵乘法的结果.\n",
    "product = tf.matmul(matrix1, matrix2)\n",
    "\n",
    "print(\"matrix1:\", matrix1)\n",
    "print(\"matrix2:\", matrix2)\n",
    "print(\"product:\", product)"
   ]
  },
  {
   "cell_type": "markdown",
   "metadata": {},
   "source": [
    "默认图现在有三个节点, 两个 constant() op, 和一个matmul() op. 为了真正进行矩阵相乘运算, 并得到矩阵乘法的结果, 你必须在会话里启动这个图."
   ]
  },
  {
   "cell_type": "markdown",
   "metadata": {},
   "source": [
    "## 在一个会话中启动图\n",
    "构造阶段完成后, 才能启动图. 启动图的第一步是创建一个 Session 对象, 如果无任何创建参数, 会话构造器将启动默认图."
   ]
  },
  {
   "cell_type": "code",
   "execution_count": 2,
   "metadata": {},
   "outputs": [
    {
     "name": "stdout",
     "output_type": "stream",
     "text": [
      "[[12.]]\n"
     ]
    }
   ],
   "source": [
    "# 启动默认图.\n",
    "sess = tf.Session()\n",
    "\n",
    "# 调用 sess 的 'run()' 方法来执行矩阵乘法 op, 传入 'product' 作为该方法的参数. \n",
    "# 上面提到, 'product' 代表了矩阵乘法 op 的输出, 传入它是向方法表明, 我们希望取回\n",
    "# 矩阵乘法 op 的输出.\n",
    "#\n",
    "# 整个执行过程是自动化的, 会话负责传递 op 所需的全部输入. op 通常是并发执行的.\n",
    "# \n",
    "# 函数调用 'run(product)' 触发了图中三个 op (两个常量 op 和一个矩阵乘法 op) 的执行.\n",
    "#\n",
    "# 返回值 'result' 是一个 numpy `ndarray` 对象.\n",
    "result = sess.run(product)\n",
    "print(result)\n",
    "# ==> [[ 12.]]\n",
    "\n",
    "# 任务完成, 关闭会话.\n",
    "sess.close()"
   ]
  },
  {
   "cell_type": "markdown",
   "metadata": {},
   "source": [
    "Session 对象在使用完后需要关闭以释放资源. 除了显式调用 close 外, 也可以使用 \"with\" 代码块 来自动完成关闭动作."
   ]
  },
  {
   "cell_type": "code",
   "execution_count": 3,
   "metadata": {},
   "outputs": [
    {
     "name": "stdout",
     "output_type": "stream",
     "text": [
      "[array([[12.]], dtype=float32)]\n"
     ]
    }
   ],
   "source": [
    "with tf.Session() as sess:\n",
    "  result = sess.run([product])\n",
    "  print(result)"
   ]
  },
  {
   "cell_type": "markdown",
   "metadata": {},
   "source": [
    "## Tensor\n",
    "TensorFlow 程序使用 tensor 数据结构来代表所有的数据, 计算图中, 操作间传递的数据都是 tensor. 你可以把 TensorFlow tensor 看作是一个 n 维的数组或列表. 一个 tensor 包含一个静态类型 rank, 和 一个 shape."
   ]
  },
  {
   "cell_type": "markdown",
   "metadata": {},
   "source": [
    "## Variables\n",
    "变量维护图执行过程中的状态信息"
   ]
  },
  {
   "cell_type": "code",
   "execution_count": 4,
   "metadata": {},
   "outputs": [
    {
     "name": "stdout",
     "output_type": "stream",
     "text": [
      "v1: <tf.Variable 'w1:0' shape=() dtype=float32_ref>\n",
      "v2: <tf.Variable 'w1_1:0' shape=(1,) dtype=float32_ref>\n",
      "v3: <tf.Variable 'Variable:0' shape=(2, 1) dtype=float32_ref>\n"
     ]
    }
   ],
   "source": [
    "v1 = tf.Variable(0.1, dtype=tf.float32, name='w1', trainable=False)\n",
    "v2 = tf.Variable([0.1], dtype=tf.float32, name='w1')\n",
    "v3 = tf.Variable([[0.1], [0.3]], dtype=tf.float32)\n",
    "\n",
    "print('v1:', v1)\n",
    "print('v2:', v2)\n",
    "print('v3:', v3)\n"
   ]
  },
  {
   "cell_type": "markdown",
   "metadata": {},
   "source": [
    "变量的声明：\n",
    "- TensorFlow中使用了命名空间管理，如‘W1_2:0\"是变量v1在命名空间中的一个名称\n",
    "- Shape\n",
    "- 变量的类型\n",
    "- trainable: 如果想固定某个参数，则设置为False。否则，变量在神经网络训练的过程中会通过迭代不停的更新该参数\n",
    "\n",
    "声明变量后，需要初始化后再启动Session来得到变量的值。"
   ]
  },
  {
   "cell_type": "code",
   "execution_count": 5,
   "metadata": {},
   "outputs": [],
   "source": [
    "init = tf.global_variables_initializer()\n",
    "\n",
    "sess =  tf.Session()\n",
    "sess.run(init)"
   ]
  },
  {
   "cell_type": "code",
   "execution_count": 6,
   "metadata": {},
   "outputs": [
    {
     "name": "stdout",
     "output_type": "stream",
     "text": [
      "v1: 0.1\n",
      "v2: [0.1]\n",
      "v3: [[0.1]\n",
      " [0.3]]\n"
     ]
    }
   ],
   "source": [
    "print('v1:',sess.run(v1))\n",
    "print('v2:',sess.run(v2))\n",
    "print('v3:',sess.run(v3))"
   ]
  },
  {
   "cell_type": "markdown",
   "metadata": {},
   "source": [
    "### Constants\n",
    "\n",
    "每次创建了新的变量、常量，都要执行初始化。"
   ]
  },
  {
   "cell_type": "code",
   "execution_count": 7,
   "metadata": {},
   "outputs": [
    {
     "name": "stdout",
     "output_type": "stream",
     "text": [
      "c1: Tensor(\"Const_2:0\", shape=(1,), dtype=float32)\n",
      "c2: Tensor(\"Const_3:0\", shape=(2,), dtype=float32)\n"
     ]
    }
   ],
   "source": [
    "c1 = tf.constant([1.0], dtype=tf.float32)\n",
    "c2 = tf.constant([1.0, 2.0], dtype=tf.float32)\n",
    "\n",
    "print('c1:', c1)\n",
    "print('c2:', c2)"
   ]
  },
  {
   "cell_type": "code",
   "execution_count": 8,
   "metadata": {},
   "outputs": [
    {
     "name": "stdout",
     "output_type": "stream",
     "text": [
      "c1: [1.]\n",
      "c2: [1. 2.]\n"
     ]
    }
   ],
   "source": [
    "sess = tf.Session()\n",
    "sess.run(init)\n",
    "\n",
    "print('c1:', sess.run(c1))\n",
    "print('c2:', sess.run(c2))"
   ]
  },
  {
   "cell_type": "markdown",
   "metadata": {},
   "source": [
    "### tf.get_variable to create variables"
   ]
  },
  {
   "cell_type": "code",
   "execution_count": 9,
   "metadata": {},
   "outputs": [
    {
     "name": "stdout",
     "output_type": "stream",
     "text": [
      "w11: <tf.Variable 'w1_1_1:0' shape=(3, 4) dtype=float32_ref>\n",
      "b11: <tf.Variable 'b1_1:0' shape=(3, 1) dtype=float32_ref>\n"
     ]
    }
   ],
   "source": [
    "w1_1 = tf.get_variable(name='w1_1', shape=[3,4], initializer=tf.truncated_normal_initializer())\n",
    "b1_1 = tf.get_variable('b1_1', [3,1])\n",
    "\n",
    "print('w11:', w1_1)\n",
    "print('b11:', b1_1)"
   ]
  },
  {
   "cell_type": "markdown",
   "metadata": {},
   "source": [
    "## Fetch\n",
    "为了取回操作的输出内容, 可以在使用 Session 对象的 run() 调用执行图时, 传入一些 tensor, 这些 tensor 会帮助你取回结果. "
   ]
  },
  {
   "cell_type": "code",
   "execution_count": 10,
   "metadata": {},
   "outputs": [
    {
     "name": "stdout",
     "output_type": "stream",
     "text": [
      "[24.0, 7.0, 21.0]\n"
     ]
    }
   ],
   "source": [
    "input1 = tf.constant(3.0)\n",
    "input2 = tf.constant(2.0)\n",
    "input3 = tf.constant(5.0)\n",
    "intermed = tf.add(input2, input3)\n",
    "mul = tf.multiply(input1, intermed)\n",
    "output = tf.add(mul, input1)\n",
    "\n",
    "with tf.Session() as sess:\n",
    "  result = sess.run([output, intermed, mul])\n",
    "  print(result)\n",
    "    \n",
    "#[result, intermed, mul]"
   ]
  },
  {
   "cell_type": "markdown",
   "metadata": {},
   "source": [
    "### tf.placeholder() and feed method\n",
    "tf.placeholder() only declares a place for the variable and wait for the data to feed。\n",
    "TensorFlow 还提供了 feed 机制, 该机制可以临时替代图中的任意操作中的 tensor, 可以对图中任何操作提交补丁, 直接插入一个 tensor."
   ]
  },
  {
   "cell_type": "code",
   "execution_count": 11,
   "metadata": {},
   "outputs": [
    {
     "name": "stdout",
     "output_type": "stream",
     "text": [
      "input1: Tensor(\"Placeholder:0\", dtype=float32)\n",
      "input2: Tensor(\"Placeholder_1:0\", dtype=float32)\n",
      "output: Tensor(\"Mul_1:0\", dtype=float32)\n"
     ]
    }
   ],
   "source": [
    "input1 = tf.placeholder(tf.float32)\n",
    "input2 = tf.placeholder(tf.float32)\n",
    "output = tf.multiply(input1, input2)\n",
    "print('input1:', input1)\n",
    "print('input2:', input2)\n",
    "print('output:', output)"
   ]
  },
  {
   "cell_type": "code",
   "execution_count": 12,
   "metadata": {},
   "outputs": [
    {
     "name": "stdout",
     "output_type": "stream",
     "text": [
      "[array([14.], dtype=float32)]\n",
      "[array([5.], dtype=float32)]\n"
     ]
    }
   ],
   "source": [
    "with tf.Session() as sess:\n",
    "    _out = sess.run([output], feed_dict={input1:[7.0], input2:[2.0]})\n",
    "    print(_out)\n",
    "    _out = sess.run([output], feed_dict={input1:[5.0], input2:[1.0]})\n",
    "    print(_out)"
   ]
  },
  {
   "cell_type": "markdown",
   "metadata": {},
   "source": [
    "### A simple example"
   ]
  },
  {
   "cell_type": "code",
   "execution_count": 13,
   "metadata": {},
   "outputs": [
    {
     "name": "stdout",
     "output_type": "stream",
     "text": [
      "round 0: h_vec[0] = 1.0, h_sum = 1.0\n",
      "round 1: h_vec[1] = 2.0, h_sum = 3.0\n",
      "round 2: h_vec[2] = 3.0, h_sum = 6.0\n",
      "round 3: h_vec[3] = 4.0, h_sum = 10.0\n"
     ]
    }
   ],
   "source": [
    "# Add h_vec element and get the mean value\n",
    "# First, write downt he computational graph\n",
    "\n",
    "h_vec = tf.constant([1.0, 2.0, 3.0, 4,0])\n",
    "h_sum = tf.Variable(0.0, dtype=tf.float32)\n",
    "h_cur = tf.placeholder(tf.float32)\n",
    "\n",
    "h_new = tf.add(h_sum, h_cur)\n",
    "update = tf.assign(h_sum, h_new)\n",
    "\n",
    "\n",
    "init = tf.global_variables_initializer()\n",
    "\n",
    "sess =  tf.Session()\n",
    "sess.run(init)\n",
    "for i in range(4):\n",
    "    sess.run([update], feed_dict = {h_cur: sess.run(h_vec[i])})\n",
    "    print('round {}: h_vec[{}] = {}, h_sum = {}'.format(i, i, sess.run(h_vec[i]), sess.run(h_sum)))"
   ]
  },
  {
   "cell_type": "markdown",
   "metadata": {},
   "source": [
    "## A machine learning example\n",
    "- Preprae the data set\n",
    "- Build a computational graph that describes the computation that you want to perform\n",
    "- Run the computational graph many times\n",
    "\n",
    "You can setup the GPU/CPU usage."
   ]
  },
  {
   "cell_type": "code",
   "execution_count": 14,
   "metadata": {},
   "outputs": [
    {
     "name": "stdout",
     "output_type": "stream",
     "text": [
      "Using device:  /cpu:0\n"
     ]
    }
   ],
   "source": [
    "# Set up some global variables\n",
    "USE_GPU = False\n",
    "\n",
    "if USE_GPU:\n",
    "    device = '/device:GPU:0'\n",
    "else:\n",
    "    device = '/cpu:0'\n",
    "\n",
    "# Constant to control how often we print when training models\n",
    "print_every = 100\n",
    "\n",
    "print('Using device: ', device)"
   ]
  },
  {
   "cell_type": "code",
   "execution_count": 15,
   "metadata": {},
   "outputs": [
    {
     "name": "stdout",
     "output_type": "stream",
     "text": [
      "X.shape= (100, 1)\n",
      "y.shape= (100, 1)\n"
     ]
    }
   ],
   "source": [
    "import tensorflow as tf\n",
    "import numpy as np\n",
    "\n",
    "# 1.Prepare the data set\n",
    "X = np.float32(np.random.rand(100)) \n",
    "X = np.sort(X)\n",
    "y = np.dot(0.200, X**2) + 0.300 + np.random.randn(100) * 0.01\n",
    "X = X.reshape([-1, 1])\n",
    "y = y.reshape([-1, 1])\n",
    "print('X.shape=', X.shape)\n",
    "print('y.shape=', y.shape)"
   ]
  },
  {
   "cell_type": "code",
   "execution_count": 16,
   "metadata": {},
   "outputs": [
    {
     "name": "stdout",
     "output_type": "stream",
     "text": [
      "0 [[0.02065651]] [0.45748433]\n",
      "20 [[0.16583924]] [0.3149182]\n",
      "40 [[0.19494128]] [0.30238768]\n",
      "60 [[0.19980137]] [0.30029508]\n",
      "80 [[0.20061304]] [0.2999456]\n",
      "100 [[0.20074858]] [0.29988724]\n",
      "120 [[0.20077123]] [0.2998775]\n",
      "140 [[0.20077501]] [0.29987586]\n",
      "160 [[0.20077562]] [0.2998756]\n",
      "180 [[0.20077565]] [0.2998756]\n",
      "200 [[0.20077565]] [0.2998756]\n"
     ]
    }
   ],
   "source": [
    "Learning_rate = 0.5\n",
    "\n",
    "# 2.Build a computational graph\n",
    "b = tf.Variable(tf.zeros([1]))\n",
    "W = tf.Variable(tf.random_uniform([1,1], -1.0, 1.0))\n",
    "y_pre = tf.matmul(X**2, W) + b\n",
    "\n",
    "loss = tf.reduce_mean(tf.square(y_pre - y))\n",
    "optimizer = tf.train.GradientDescentOptimizer(Learning_rate)\n",
    "train = optimizer.minimize(loss)\n",
    "\n",
    "init = tf.global_variables_initializer()\n",
    "sess.run(init)\n",
    "\n",
    "# 3. Run the computational graph\n",
    "for step in range(0, 201):\n",
    "    sess.run(train)\n",
    "    if step % 20 == 0:\n",
    "        print(step, sess.run(W), sess.run(b))\n"
   ]
  },
  {
   "cell_type": "code",
   "execution_count": 17,
   "metadata": {},
   "outputs": [
    {
     "name": "stdout",
     "output_type": "stream",
     "text": [
      "y_pre: [0.2999333  0.30119202 0.30170152 0.3018381  0.30189735 0.30254564\n",
      " 0.30282944 0.3035682  0.30467585 0.30498835 0.3057471  0.3061711\n",
      " 0.30666307 0.3068964  0.30738682 0.30866098 0.30937698 0.31091976\n",
      " 0.3110237  0.31230295]\n",
      "y_true: [0.30432162 0.30943381 0.29645956 0.30638395 0.29639537 0.3167464\n",
      " 0.30140735 0.30984627 0.2984033  0.29074186 0.31062984 0.29981529\n",
      " 0.30753372 0.29687534 0.31182297 0.30880485 0.30674231 0.30186702\n",
      " 0.31082161 0.32955973]\n"
     ]
    }
   ],
   "source": [
    "_y_pre = sess.run(y_pre)   \n",
    "print('y_pre:', _y_pre.reshape([-1])[:20])   \n",
    "print('y_true:', y.reshape([-1])[:20]) "
   ]
  },
  {
   "cell_type": "code",
   "execution_count": 19,
   "metadata": {},
   "outputs": [
    {
     "data": {
      "image/png": "[encoded data removed]",
      "text/plain": [
       "<matplotlib.figure.Figure at 0x1829b16ef0>"
      ]
     },
     "metadata": {},
     "output_type": "display_data"
    }
   ],
   "source": [
    "import matplotlib.pyplot as plt\n",
    "\n",
    "plt.plot(X, y, 'b.', label='Training Set')\n",
    "plt.plot(X, _y_pre, 'r-', label=\"Learning Curve\")\n",
    "plt.legend()\n",
    "plt.show()"
   ]
  },
  {
   "cell_type": "code",
   "execution_count": null,
   "metadata": {},
   "outputs": [],
   "source": []
  }
 ],
 "metadata": {
  "kernelspec": {
   "display_name": "Python 3",
   "language": "python",
   "name": "python3"
  },
  "language_info": {
   "codemirror_mode": {
    "name": "ipython",
    "version": 3
   },
   "file_extension": ".py",
   "mimetype": "text/x-python",
   "name": "python",
   "nbconvert_exporter": "python",
   "pygments_lexer": "ipython3",
   "version": "3.6.4"
  }
 },
 "nbformat": 4,
 "nbformat_minor": 2
}
